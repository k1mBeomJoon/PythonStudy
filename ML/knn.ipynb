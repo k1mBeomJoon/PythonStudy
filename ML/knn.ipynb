{
 "cells": [
  {
   "cell_type": "code",
   "execution_count": 5,
   "id": "9fa2656a",
   "metadata": {},
   "outputs": [],
   "source": [
    "import pandas as pd\n",
    "from sklearn.model_selection import train_test_split\n",
    "from sklearn.preprocessing import StandardScaler\n",
    "from sklearn.neighbors import KNeighborsClassifier\n",
    "import joblib"
   ]
  },
  {
   "cell_type": "code",
   "execution_count": 6,
   "id": "764c5db5",
   "metadata": {},
   "outputs": [
    {
     "name": "stdout",
     "output_type": "stream",
     "text": [
      "knn\n",
      "(126, 5)\n",
      "<class 'pandas.core.frame.DataFrame'>\n",
      "RangeIndex: 126 entries, 0 to 125\n",
      "Data columns (total 5 columns):\n",
      " #   Column  Non-Null Count  Dtype\n",
      "---  ------  --------------  -----\n",
      " 0   age     126 non-null    int64\n",
      " 1   sex     126 non-null    int64\n",
      " 2   job     126 non-null    int64\n",
      " 3   hobby   126 non-null    int64\n",
      " 4   Class   126 non-null    int64\n",
      "dtypes: int64(5)\n",
      "memory usage: 5.0 KB\n",
      "None\n",
      "              age         sex         job       hobby       Class\n",
      "count  126.000000  126.000000  126.000000  126.000000  126.000000\n",
      "mean    35.468254    1.444444    2.357143    2.452381    2.587302\n",
      "std     13.310860    0.498888    0.924894    1.142679    1.154261\n",
      "min     20.000000    1.000000    1.000000    1.000000    1.000000\n",
      "25%     24.000000    1.000000    2.000000    1.000000    1.000000\n",
      "50%     28.000000    1.000000    3.000000    3.000000    3.000000\n",
      "75%     48.750000    2.000000    3.000000    3.000000    4.000000\n",
      "max     60.000000    2.000000    4.000000    4.000000    4.000000\n",
      "   age  sex  job  hobby  Class\n",
      "0   28    2    2      2      3\n",
      "1   25    2    2      2      2\n",
      "2   22    2    2      2      2\n",
      "3   22    2    2      2      2\n",
      "4   22    2    2      2      3\n",
      "     age  sex  job  hobby  Class\n",
      "121   55    1    1      3      3\n",
      "122   56    1    1      3      4\n",
      "123   57    1    1      3      3\n",
      "124   58    1    1      3      4\n",
      "125   57    1    1      3      1\n"
     ]
    }
   ],
   "source": [
    " print(\"knn\")\n",
    "# 1. 데이터 준비\n",
    "col_names = ['age', 'sex',\n",
    "             'job', 'hobby',\n",
    "             'Class']\n",
    "\n",
    "# csv 파일에서 DataFrame을 생성\n",
    "dataset = pd.read_csv('shopknn.csv', encoding='UTF-8', header=None, names=col_names)\n",
    "\n",
    "# DataFrame 확인\n",
    "print(dataset.shape)  # (row개수, column개수)\n",
    "print(dataset.info())  # 데이터 타입, row 개수, column 개수, 컬럼 데이터 타입\n",
    "print(dataset.describe())  # 요약 통계 정보\n",
    "print(dataset.iloc[0:5])  # dataset.head()\n",
    "print(dataset.iloc[-5:])  # dataset.tail()"
   ]
  },
  {
   "cell_type": "code",
   "execution_count": 7,
   "id": "aa1b091c",
   "metadata": {},
   "outputs": [
    {
     "name": "stdout",
     "output_type": "stream",
     "text": [
      "[[28  2  2  2]\n",
      " [25  2  2  2]\n",
      " [22  2  2  2]\n",
      " [22  2  2  2]\n",
      " [22  2  2  2]\n",
      " [22  2  2  4]\n",
      " [23  2  2  3]\n",
      " [24  2  2  4]\n",
      " [25  2  3  3]\n",
      " [26  2  3  3]\n",
      " [27  1  3  2]\n",
      " [28  1  3  4]\n",
      " [29  1  3  2]\n",
      " [24  1  3  4]\n",
      " [25  1  3  2]\n",
      " [26  1  3  3]\n",
      " [27  1  3  2]\n",
      " [24  1  3  4]\n",
      " [25  1  3  3]\n",
      " [26  1  3  2]\n",
      " [27  1  3  3]\n",
      " [20  2  3  1]\n",
      " [22  2  4  1]\n",
      " [32  2  3  4]\n",
      " [20  2  3  1]\n",
      " [33  2  3  1]\n",
      " [49  2  2  1]\n",
      " [50  2  2  1]\n",
      " [52  2  4  3]\n",
      " [52  2  2  4]\n",
      " [53  2  2  1]\n",
      " [54  2  2  2]\n",
      " [55  1  1  4]\n",
      " [56  1  3  3]\n",
      " [57  1  4  2]\n",
      " [58  1  1  4]\n",
      " [45  1  1  4]\n",
      " [46  1  1  3]\n",
      " [47  1  1  3]\n",
      " [48  1  1  3]\n",
      " [49  1  3  3]\n",
      " [44  1  1  3]\n",
      " [45  1  4  3]\n",
      " [46  2  3  1]\n",
      " [47  2  3  1]\n",
      " [48  2  3  1]\n",
      " [49  2  4  1]\n",
      " [23  2  3  1]\n",
      " [24  2  3  1]\n",
      " [24  1  3  3]\n",
      " [25  1  3  2]\n",
      " [25  1  3  2]\n",
      " [25  1  4  3]\n",
      " [26  1  1  2]\n",
      " [26  1  1  3]\n",
      " [27  1  1  3]\n",
      " [27  1  1  4]\n",
      " [28  1  1  4]\n",
      " [28  1  1  1]\n",
      " [29  1  1  1]\n",
      " [29  1  1  2]\n",
      " [20  1  1  1]\n",
      " [20  1  1  3]\n",
      " [22  2  3  1]\n",
      " [22  2  3  1]\n",
      " [22  2  3  1]\n",
      " [22  2  3  1]\n",
      " [23  2  3  1]\n",
      " [23  2  3  1]\n",
      " [24  2  3  1]\n",
      " [24  1  3  1]\n",
      " [25  1  3  1]\n",
      " [25  1  3  1]\n",
      " [25  1  3  3]\n",
      " [26  1  3  1]\n",
      " [26  1  3  3]\n",
      " [27  1  3  2]\n",
      " [27  1  3  3]\n",
      " [28  1  3  1]\n",
      " [28  1  3  2]\n",
      " [29  1  3  4]\n",
      " [29  1  3  4]\n",
      " [20  1  3  4]\n",
      " [20  1  3  4]\n",
      " [22  2  2  1]\n",
      " [22  2  2  1]\n",
      " [22  2  2  1]\n",
      " [22  2  2  1]\n",
      " [23  2  2  1]\n",
      " [23  2  2  1]\n",
      " [24  2  2  1]\n",
      " [24  2  2  1]\n",
      " [25  2  2  1]\n",
      " [25  2  2  1]\n",
      " [40  2  2  1]\n",
      " [42  1  3  3]\n",
      " [42  1  3  3]\n",
      " [43  1  3  3]\n",
      " [44  1  1  3]\n",
      " [45  1  3  3]\n",
      " [46  1  4  3]\n",
      " [47  1  3  3]\n",
      " [48  1  1  3]\n",
      " [49  1  3  3]\n",
      " [50  1  1  3]\n",
      " [52  2  2  4]\n",
      " [52  2  2  4]\n",
      " [53  2  2  4]\n",
      " [54  2  2  4]\n",
      " [55  2  1  4]\n",
      " [56  2  2  4]\n",
      " [57  2  1  4]\n",
      " [58  2  2  4]\n",
      " [59  2  2  4]\n",
      " [60  2  2  4]\n",
      " [38  2  2  4]\n",
      " [39  1  4  3]\n",
      " [39  1  4  3]\n",
      " [52  1  4  3]\n",
      " [53  1  1  3]\n",
      " [54  1  1  3]\n",
      " [55  1  1  3]\n",
      " [56  1  1  3]\n",
      " [57  1  1  3]\n",
      " [58  1  1  3]\n",
      " [57  1  1  3]]\n",
      "[3 2 2 2 3 3 3 3 3 1 4 4 4 2 4 4 1 4 3 4 4 1 1 2 1 1 2 2 2 3 3 3 3 3 1 3 3\n",
      " 4 4 1 4 4 4 2 1 2 2 1 2 3 1 2 4 2 2 3 4 4 4 1 3 3 3 1 1 1 1 1 1 1 3 3 3 3\n",
      " 4 4 4 3 4 3 4 4 2 1 1 1 1 1 1 1 1 1 1 1 1 3 3 3 3 3 3 4 4 4 4 2 2 2 4 2 1\n",
      " 2 4 3 4 4 4 3 3 4 3 3 4 3 4 1]\n"
     ]
    }
   ],
   "source": [
    "# X = 전체 행, 마지막 열 제외한 모든 열 데이터 -> n차원 공간의 포인트\n",
    "X = dataset.iloc[:, :-1].to_numpy()  # DataFrame을 np.ndarray로 변환\n",
    "print(X)\n",
    "\n",
    "# y = 전체 행, 마지막 열 데이터\n",
    "y = dataset.iloc[:, 4].to_numpy()\n",
    "print(y)"
   ]
  },
  {
   "cell_type": "code",
   "execution_count": 8,
   "id": "54f1d0b8",
   "metadata": {},
   "outputs": [
    {
     "name": "stdout",
     "output_type": "stream",
     "text": [
      "100 26\n",
      "[[46  1  4  3]\n",
      " [54  2  2  4]\n",
      " [49  1  3  3]]\n",
      "[3 4 4]\n"
     ]
    }
   ],
   "source": [
    "# 전체 데이터 세트를 학습 세트(training set)와 검증 세트(test set)로 나눔\n",
    "X_train, X_test, y_train, y_test = train_test_split(X, y, test_size=0.2, random_state=23)\n",
    "print(len(X_train), len(X_test))\n",
    "\n",
    "print(X_train[:3])\n",
    "print(y_train[:3])"
   ]
  },
  {
   "cell_type": "code",
   "execution_count": 9,
   "id": "bc4acc50",
   "metadata": {},
   "outputs": [
    {
     "name": "stdout",
     "output_type": "stream",
     "text": [
      "26\n",
      "[4 1 3 1 3 4 2 2 4 3 1 4 4 2 1 3 3 1 4 2 1 1 2 4 1 1]\n",
      "26\n",
      "예측 정확도: 0.5769\n"
     ]
    },
    {
     "name": "stderr",
     "output_type": "stream",
     "text": [
      "C:\\ProgramData\\Anaconda3\\lib\\site-packages\\sklearn\\neighbors\\_classification.py:228: FutureWarning: Unlike other reduction functions (e.g. `skew`, `kurtosis`), the default behavior of `mode` typically preserves the axis it acts along. In SciPy 1.11.0, this behavior will change: the default value of `keepdims` will become False, the `axis` over which the statistic is taken will be eliminated, and the value None will no longer be accepted. Set `keepdims` to True or False to avoid this warning.\n",
      "  mode, _ = stats.mode(_y[neigh_ind, k], axis=1)\n"
     ]
    }
   ],
   "source": [
    "# k-NN 분류기를 생성\n",
    "classifier = KNeighborsClassifier(n_neighbors=5)\n",
    "# 분류기 학습\n",
    "classifier.fit(X_train, y_train)\n",
    "\n",
    "# 예측\n",
    "y_pred = classifier.predict(X_test)\n",
    "print(len(X_test))\n",
    "print(y_pred)\n",
    "print(len(y_pred))\n",
    "\n",
    "from sklearn.metrics import accuracy_score\n",
    "print('예측 정확도: {0:.4f}'.format(accuracy_score(y_test, y_pred)))"
   ]
  },
  {
   "cell_type": "code",
   "execution_count": 10,
   "id": "37c3c213",
   "metadata": {},
   "outputs": [
    {
     "data": {
      "text/plain": [
       "['./shopknn.pkl']"
      ]
     },
     "execution_count": 10,
     "metadata": {},
     "output_type": "execute_result"
    }
   ],
   "source": [
    "# 모델 저장\n",
    "\n",
    "\n",
    "joblib.dump(classifier, './shopknn.pkl')"
   ]
  },
  {
   "cell_type": "code",
   "execution_count": 11,
   "id": "98a34272",
   "metadata": {},
   "outputs": [
    {
     "name": "stdout",
     "output_type": "stream",
     "text": [
      "[4 1 3 1 3 4 2 2 4 3 1 4 4 2 1 3 3 1 4 2 1 1 2 4 1 1]\n"
     ]
    },
    {
     "name": "stderr",
     "output_type": "stream",
     "text": [
      "C:\\ProgramData\\Anaconda3\\lib\\site-packages\\sklearn\\neighbors\\_classification.py:228: FutureWarning: Unlike other reduction functions (e.g. `skew`, `kurtosis`), the default behavior of `mode` typically preserves the axis it acts along. In SciPy 1.11.0, this behavior will change: the default value of `keepdims` will become False, the `axis` over which the statistic is taken will be eliminated, and the value None will no longer be accepted. Set `keepdims` to True or False to avoid this warning.\n",
      "  mode, _ = stats.mode(_y[neigh_ind, k], axis=1)\n"
     ]
    }
   ],
   "source": [
    "# 모델 불러오기\n",
    "loaded_model = joblib.load('./shopknn.pkl')\n",
    "# 예측\n",
    "loaded_pred = loaded_model.predict(X_test)\n",
    "print(loaded_pred)"
   ]
  },
  {
   "cell_type": "code",
   "execution_count": null,
   "id": "be647536",
   "metadata": {},
   "outputs": [],
   "source": []
  },
  {
   "cell_type": "code",
   "execution_count": null,
   "id": "8afd792b",
   "metadata": {},
   "outputs": [],
   "source": []
  },
  {
   "cell_type": "code",
   "execution_count": null,
   "id": "89e43790",
   "metadata": {},
   "outputs": [],
   "source": []
  },
  {
   "cell_type": "code",
   "execution_count": null,
   "id": "449aa8df",
   "metadata": {},
   "outputs": [],
   "source": []
  },
  {
   "cell_type": "code",
   "execution_count": null,
   "id": "f1ed3690",
   "metadata": {},
   "outputs": [],
   "source": []
  },
  {
   "cell_type": "code",
   "execution_count": null,
   "id": "257d59b5",
   "metadata": {},
   "outputs": [],
   "source": []
  },
  {
   "cell_type": "code",
   "execution_count": null,
   "id": "63cc1306",
   "metadata": {},
   "outputs": [],
   "source": []
  },
  {
   "cell_type": "code",
   "execution_count": null,
   "id": "0945cffe",
   "metadata": {},
   "outputs": [],
   "source": []
  }
 ],
 "metadata": {
  "kernelspec": {
   "display_name": "Python 3 (ipykernel)",
   "language": "python",
   "name": "python3"
  },
  "language_info": {
   "codemirror_mode": {
    "name": "ipython",
    "version": 3
   },
   "file_extension": ".py",
   "mimetype": "text/x-python",
   "name": "python",
   "nbconvert_exporter": "python",
   "pygments_lexer": "ipython3",
   "version": "3.9.13"
  }
 },
 "nbformat": 4,
 "nbformat_minor": 5
}
